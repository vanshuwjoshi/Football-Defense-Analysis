{
  "nbformat": 4,
  "nbformat_minor": 0,
  "metadata": {
    "colab": {
      "provenance": [],
      "authorship_tag": "ABX9TyP52G2yZmZnwG2oP851zO8N",
      "include_colab_link": true
    },
    "kernelspec": {
      "name": "python3",
      "display_name": "Python 3"
    },
    "language_info": {
      "name": "python"
    }
  },
  "cells": [
    {
      "cell_type": "markdown",
      "metadata": {
        "id": "view-in-github",
        "colab_type": "text"
      },
      "source": [
        "<a href=\"https://colab.research.google.com/github/vanshuwjoshi/Football-Defense-Analysis/blob/main/Football_Defense_Analysis.ipynb\" target=\"_parent\"><img src=\"https://colab.research.google.com/assets/colab-badge.svg\" alt=\"Open In Colab\"/></a>"
      ]
    },
    {
      "cell_type": "code",
      "execution_count": 12,
      "metadata": {
        "id": "8yp-wuz69zLA"
      },
      "outputs": [],
      "source": [
        "import requests\n",
        "import pandas as pd\n",
        "import os"
      ]
    },
    {
      "cell_type": "code",
      "source": [
        "seasons = [\n",
        "    \"2010-2011\",\n",
        "    \"2011-2012\",\n",
        "    \"2012-2013\",\n",
        "    \"2013-2014\",\n",
        "    \"2014-2015\",\n",
        "    \"2015-2016\",\n",
        "    \"2016-2017\",\n",
        "    \"2017-2018\",\n",
        "    \"2018-2019\",\n",
        "    \"2019-2020\",\n",
        "    \"2020-2021\",\n",
        "    \"2021-2022\",\n",
        "    \"2022-2023\",\n",
        "    \"2023-2024\",\n",
        "]"
      ],
      "metadata": {
        "id": "r3rvcAKZ_Mo8"
      },
      "execution_count": 19,
      "outputs": []
    },
    {
      "cell_type": "code",
      "source": [
        "league = {\n",
        "    \"Premier-League\": 9,\n",
        "    \"La-Liga\": 12,\n",
        "    \"Ligue-1\": 13,\n",
        "    \"Bundesliga\": 20,\n",
        "    \"Serie-A\": 11\n",
        "}"
      ],
      "metadata": {
        "id": "XTINcvONE0Qp"
      },
      "execution_count": 20,
      "outputs": []
    },
    {
      "cell_type": "code",
      "source": [
        "def get_league_table(season, league, url):\n",
        "    html = requests.get(url).content\n",
        "    df_list = pd.read_html(html)\n",
        "    league_table = df_list[0]\n",
        "    league_table[[\"Rk\",\"Squad\", \"MP\", \"GA\"]].to_csv(f\"/content/{league}/{season}.csv\")"
      ],
      "metadata": {
        "id": "l0IBXv0u_MlV"
      },
      "execution_count": 21,
      "outputs": []
    },
    {
      "cell_type": "code",
      "source": [
        "for league, league_id in league.items():\n",
        "  print(\"Currently in \" + league)\n",
        "  folder = f\"/content/{league}\"\n",
        "  if not os.path.exists(folder):\n",
        "    os.makedirs(folder)\n",
        "  for s in seasons:\n",
        "    print(\"Currently on \" + s)\n",
        "    url = f\"https://fbref.com/en/comps/{league_id}/{s}/{s}-{league}-Stats\"\n",
        "    try:\n",
        "      get_league_table(s, league, url)\n",
        "    except Exception as e:\n",
        "      print(f\"Error on {s}: {e}\")\n",
        "      pass"
      ],
      "metadata": {
        "colab": {
          "base_uri": "https://localhost:8080/"
        },
        "id": "dSSD4ANsGKs1",
        "outputId": "09a5157e-fd3f-433c-cdef-4cc5b306287d"
      },
      "execution_count": 22,
      "outputs": [
        {
          "output_type": "stream",
          "name": "stdout",
          "text": [
            "Currently inPremier-League\n",
            "Currently on2010-2011\n",
            "Error on 2010-2011: No tables found\n",
            "Currently on2011-2012\n",
            "Error on 2011-2012: No tables found\n",
            "Currently on2012-2013\n",
            "Error on 2012-2013: No tables found\n",
            "Currently on2013-2014\n",
            "Error on 2013-2014: No tables found\n",
            "Currently on2014-2015\n",
            "Error on 2014-2015: No tables found\n",
            "Currently on2015-2016\n",
            "Error on 2015-2016: No tables found\n",
            "Currently on2016-2017\n",
            "Error on 2016-2017: No tables found\n",
            "Currently on2017-2018\n",
            "Error on 2017-2018: No tables found\n",
            "Currently on2018-2019\n",
            "Error on 2018-2019: No tables found\n",
            "Currently on2019-2020\n",
            "Error on 2019-2020: No tables found\n",
            "Currently on2020-2021\n",
            "Error on 2020-2021: No tables found\n",
            "Currently on2021-2022\n",
            "Error on 2021-2022: No tables found\n",
            "Currently on2022-2023\n",
            "Error on 2022-2023: No tables found\n",
            "Currently on2023-2024\n",
            "Error on 2023-2024: No tables found\n",
            "Currently inLa-Liga\n",
            "Currently on2010-2011\n",
            "Error on 2010-2011: No tables found\n",
            "Currently on2011-2012\n",
            "Error on 2011-2012: No tables found\n",
            "Currently on2012-2013\n",
            "Error on 2012-2013: No tables found\n",
            "Currently on2013-2014\n",
            "Error on 2013-2014: No tables found\n",
            "Currently on2014-2015\n",
            "Error on 2014-2015: No tables found\n",
            "Currently on2015-2016\n",
            "Error on 2015-2016: No tables found\n",
            "Currently on2016-2017\n",
            "Error on 2016-2017: No tables found\n",
            "Currently on2017-2018\n",
            "Error on 2017-2018: No tables found\n",
            "Currently on2018-2019\n",
            "Error on 2018-2019: No tables found\n",
            "Currently on2019-2020\n",
            "Error on 2019-2020: No tables found\n",
            "Currently on2020-2021\n",
            "Error on 2020-2021: No tables found\n",
            "Currently on2021-2022\n",
            "Error on 2021-2022: No tables found\n",
            "Currently on2022-2023\n",
            "Error on 2022-2023: No tables found\n",
            "Currently on2023-2024\n",
            "Error on 2023-2024: No tables found\n",
            "Currently inLigue-1\n",
            "Currently on2010-2011\n",
            "Error on 2010-2011: No tables found\n",
            "Currently on2011-2012\n",
            "Error on 2011-2012: No tables found\n",
            "Currently on2012-2013\n",
            "Error on 2012-2013: No tables found\n",
            "Currently on2013-2014\n",
            "Error on 2013-2014: No tables found\n",
            "Currently on2014-2015\n",
            "Error on 2014-2015: No tables found\n",
            "Currently on2015-2016\n",
            "Error on 2015-2016: No tables found\n",
            "Currently on2016-2017\n",
            "Error on 2016-2017: No tables found\n",
            "Currently on2017-2018\n",
            "Error on 2017-2018: No tables found\n",
            "Currently on2018-2019\n",
            "Error on 2018-2019: No tables found\n",
            "Currently on2019-2020\n",
            "Error on 2019-2020: No tables found\n",
            "Currently on2020-2021\n",
            "Error on 2020-2021: No tables found\n",
            "Currently on2021-2022\n",
            "Error on 2021-2022: No tables found\n",
            "Currently on2022-2023\n",
            "Error on 2022-2023: No tables found\n",
            "Currently on2023-2024\n",
            "Error on 2023-2024: No tables found\n",
            "Currently inBundesliga\n",
            "Currently on2010-2011\n",
            "Error on 2010-2011: No tables found\n",
            "Currently on2011-2012\n",
            "Error on 2011-2012: No tables found\n",
            "Currently on2012-2013\n",
            "Error on 2012-2013: No tables found\n",
            "Currently on2013-2014\n",
            "Error on 2013-2014: No tables found\n",
            "Currently on2014-2015\n",
            "Error on 2014-2015: No tables found\n",
            "Currently on2015-2016\n",
            "Error on 2015-2016: No tables found\n",
            "Currently on2016-2017\n",
            "Error on 2016-2017: No tables found\n",
            "Currently on2017-2018\n",
            "Error on 2017-2018: No tables found\n",
            "Currently on2018-2019\n",
            "Error on 2018-2019: No tables found\n",
            "Currently on2019-2020\n",
            "Error on 2019-2020: No tables found\n",
            "Currently on2020-2021\n",
            "Error on 2020-2021: No tables found\n",
            "Currently on2021-2022\n",
            "Error on 2021-2022: No tables found\n",
            "Currently on2022-2023\n",
            "Error on 2022-2023: No tables found\n",
            "Currently on2023-2024\n",
            "Error on 2023-2024: No tables found\n",
            "Currently inSerie-A\n",
            "Currently on2010-2011\n",
            "Error on 2010-2011: No tables found\n",
            "Currently on2011-2012\n",
            "Error on 2011-2012: No tables found\n",
            "Currently on2012-2013\n",
            "Error on 2012-2013: No tables found\n",
            "Currently on2013-2014\n",
            "Error on 2013-2014: No tables found\n",
            "Currently on2014-2015\n",
            "Error on 2014-2015: No tables found\n",
            "Currently on2015-2016\n",
            "Error on 2015-2016: No tables found\n",
            "Currently on2016-2017\n",
            "Error on 2016-2017: No tables found\n",
            "Currently on2017-2018\n",
            "Error on 2017-2018: No tables found\n",
            "Currently on2018-2019\n",
            "Error on 2018-2019: No tables found\n",
            "Currently on2019-2020\n",
            "Error on 2019-2020: No tables found\n",
            "Currently on2020-2021\n",
            "Error on 2020-2021: No tables found\n",
            "Currently on2021-2022\n",
            "Error on 2021-2022: No tables found\n",
            "Currently on2022-2023\n",
            "Error on 2022-2023: No tables found\n",
            "Currently on2023-2024\n",
            "Error on 2023-2024: No tables found\n"
          ]
        }
      ]
    },
    {
      "cell_type": "code",
      "source": [
        "count = 0\n",
        "for s in seasons:\n",
        "  df = pd.read_csv(f\"/content/{s}.csv\")\n",
        "  if df.sort_values(\"GA\").iloc[0][\"Rk\"] == 1:\n",
        "    count += 1"
      ],
      "metadata": {
        "id": "jLAFSL2LC6YM"
      },
      "execution_count": 32,
      "outputs": []
    },
    {
      "cell_type": "code",
      "source": [
        "print(f\"Number of teams that won the league in last 14 seasons\" +\n",
        "\"and has least amount of goals conceded: {count}\")\n",
        "print(f\"Teams with the lowest goals conceded won {(count/14)*100}% of titles\")"
      ],
      "metadata": {
        "colab": {
          "base_uri": "https://localhost:8080/"
        },
        "id": "lBqIf0gKDVew",
        "outputId": "3d84e7b3-0bc4-44cc-f77c-855c6e8bd377"
      },
      "execution_count": 34,
      "outputs": [
        {
          "output_type": "stream",
          "name": "stdout",
          "text": [
            "Number of teams that won the league in last 14 seasonsand has least amount of goals conceded: {count}\n",
            "Teams with the lowest goals conceded won 50.0% of titles\n"
          ]
        }
      ]
    },
    {
      "cell_type": "code",
      "source": [],
      "metadata": {
        "id": "10kBAJPuEoUj"
      },
      "execution_count": null,
      "outputs": []
    }
  ]
}