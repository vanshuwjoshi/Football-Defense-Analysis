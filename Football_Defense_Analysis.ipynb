{
  "nbformat": 4,
  "nbformat_minor": 0,
  "metadata": {
    "colab": {
      "provenance": [],
      "authorship_tag": "ABX9TyNGS0qoCKj7BtXKN/crK55j",
      "include_colab_link": true
    },
    "kernelspec": {
      "name": "python3",
      "display_name": "Python 3"
    },
    "language_info": {
      "name": "python"
    }
  },
  "cells": [
    {
      "cell_type": "markdown",
      "metadata": {
        "id": "view-in-github",
        "colab_type": "text"
      },
      "source": [
        "<a href=\"https://colab.research.google.com/github/vanshuwjoshi/Football-Defense-Analysis/blob/main/Football_Defense_Analysis.ipynb\" target=\"_parent\"><img src=\"https://colab.research.google.com/assets/colab-badge.svg\" alt=\"Open In Colab\"/></a>"
      ]
    },
    {
      "cell_type": "code",
      "execution_count": 1,
      "metadata": {
        "id": "8yp-wuz69zLA"
      },
      "outputs": [],
      "source": [
        "import requests\n",
        "import pandas as pd"
      ]
    },
    {
      "cell_type": "code",
      "source": [
        "seasons = [\n",
        "    \"2010-2011\",\n",
        "    \"2011-2012\",\n",
        "    \"2012-2013\",\n",
        "    \"2013-2014\",\n",
        "    \"2014-2015\",\n",
        "    \"2015-2016\",\n",
        "    \"2016-2017\",\n",
        "    \"2017-2018\",\n",
        "    \"2018-2019\",\n",
        "    \"2019-2020\",\n",
        "    \"2020-2021\",\n",
        "    \"2021-2022\",\n",
        "    \"2022-2023\",\n",
        "    \"2023-2024\",\n",
        "]"
      ],
      "metadata": {
        "id": "r3rvcAKZ_Mo8"
      },
      "execution_count": 9,
      "outputs": []
    },
    {
      "cell_type": "code",
      "source": [
        "def get_league_table(season, url):\n",
        "    html = requests.get(url).content\n",
        "    df_list = pd.read_html(html)\n",
        "    league_table = df_list[0]\n",
        "    league_table[[\"Rk\",\"Squad\", \"MP\", \"GA\"]].to_csv(f\"/content/{season}.csv\")"
      ],
      "metadata": {
        "id": "l0IBXv0u_MlV"
      },
      "execution_count": 13,
      "outputs": []
    },
    {
      "cell_type": "code",
      "source": [
        "for s in seasons:\n",
        "  url = f\"https://fbref.com/en/comps/9/{s}/{s}-Premier-League-Stats\"\n",
        "  get_league_table(s, url)"
      ],
      "metadata": {
        "id": "zuTUUUEG_Mg2"
      },
      "execution_count": 14,
      "outputs": []
    },
    {
      "cell_type": "code",
      "source": [
        "count = 0\n",
        "for s in seasons:\n",
        "  df = pd.read_csv(f\"/content/{s}.csv\")\n",
        "  if df.sort_values(\"GA\").iloc[0][\"Rk\"] == 1:\n",
        "    count += 1"
      ],
      "metadata": {
        "id": "jLAFSL2LC6YM"
      },
      "execution_count": 32,
      "outputs": []
    },
    {
      "cell_type": "code",
      "source": [
        "print(f\"Number of teams that won the league in last 14 seasons\" +\n",
        "\"and has least amount of goals conceded: {count}\")\n",
        "print(f\"Teams with the lowest goals conceded won {(count/14)*100}% of titles\")"
      ],
      "metadata": {
        "colab": {
          "base_uri": "https://localhost:8080/"
        },
        "id": "lBqIf0gKDVew",
        "outputId": "3d84e7b3-0bc4-44cc-f77c-855c6e8bd377"
      },
      "execution_count": 34,
      "outputs": [
        {
          "output_type": "stream",
          "name": "stdout",
          "text": [
            "Number of teams that won the league in last 14 seasonsand has least amount of goals conceded: {count}\n",
            "Teams with the lowest goals conceded won 50.0% of titles\n"
          ]
        }
      ]
    }
  ]
}